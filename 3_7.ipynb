{
  "nbformat": 4,
  "nbformat_minor": 0,
  "metadata": {
    "colab": {
      "provenance": [],
      "authorship_tag": "ABX9TyN7Y0Lvw6w1q4WsABVy86W3",
      "include_colab_link": true
    },
    "kernelspec": {
      "name": "python3",
      "display_name": "Python 3"
    },
    "language_info": {
      "name": "python"
    }
  },
  "cells": [
    {
      "cell_type": "markdown",
      "metadata": {
        "id": "view-in-github",
        "colab_type": "text"
      },
      "source": [
        "<a href=\"https://colab.research.google.com/github/techn-0/computer_vision_STD/blob/main/3_7.ipynb\" target=\"_parent\"><img src=\"https://colab.research.google.com/assets/colab-badge.svg\" alt=\"Open In Colab\"/></a>"
      ]
    },
    {
      "cell_type": "code",
      "execution_count": null,
      "metadata": {
        "id": "unmmYIN7RYIo"
      },
      "outputs": [],
      "source": [
        "import cv2 as cv\n",
        "import numpy as np\n",
        "from google.colab.patches import cv2_imshow\n",
        "\n",
        "img = cv.imread('이때가좋았지.jpg')\n",
        "img = cv.resize(img, dsize=(500, 650), fx=0.4, fy=0.4)\n",
        "gray = cv.cvtColor(img, cv.COLOR_BGR2GRAY)\n",
        "cv.putText(gray, 'soccer', (10, 20), cv.FONT_HERSHEY_SIMPLEX, 0.7, (255, 255, 255), 2)\n",
        "# cv.imshow('Original', gray)\n",
        "cv2_imshow(gray)\n"
      ]
    },
    {
      "cell_type": "code",
      "source": [
        "smooth = np.hstack((cv.GaussianBlur(gray, (5, 5), 0.0), cv.GaussianBlur(gray, (9, 9), 0.0), cv.GaussianBlur(gray, (15, 15), 0.0)))\n",
        "cv2_imshow(smooth)"
      ],
      "metadata": {
        "id": "-fFno6qnhr7O"
      },
      "execution_count": null,
      "outputs": []
    },
    {
      "cell_type": "code",
      "source": [
        "femboss = np.array([[-1.0, 0.0, 0.0],\n",
        "                    [0.0, 0.0, 0.0],\n",
        "                    [0.0, 0.0, 1.0]])\n",
        "\n",
        "gray16 = np.int16(gray)\n",
        "emboss = np.uint8(np.clip(cv.filter2D(gray16, -1, femboss) + 128, 0, 255))\n",
        "emboss_bad = np.uint8(cv.filter2D(gray16, -1, femboss) + 128)\n",
        "emboss_worse = cv.filter2D(gray, -1, femboss)\n",
        "\n",
        "cv2_imshow(emboss)\n",
        "cv2_imshow(emboss_bad)\n",
        "cv2_imshow(emboss_worse)\n",
        "\n",
        "cv.waitKey(0)\n",
        "cv.destroyAllWindows()"
      ],
      "metadata": {
        "id": "pldClvAbjGfX"
      },
      "execution_count": null,
      "outputs": []
    }
  ]
}